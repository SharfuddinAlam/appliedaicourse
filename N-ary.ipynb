{
 "cells": [
  {
   "cell_type": "code",
   "execution_count": 63,
   "metadata": {},
   "outputs": [],
   "source": [
    "class Node(object):\n",
    "    def __init__(self, data):\n",
    "        self.data=data\n",
    "        self.children=[]\n",
    "    def add_child(self, obj):\n",
    "        self.children.append(obj)"
   ]
  },
  {
   "cell_type": "code",
   "execution_count": 72,
   "metadata": {},
   "outputs": [],
   "source": [
    "ceo=Node('ceo')\n",
    "svp1=Node('svp1')\n",
    "svp2=Node('svp2')\n",
    "svp3=Node('svp3')\n",
    "m1=Node('m1')\n",
    "m2=Node('m2')\n",
    "m3=Node('m3')\n",
    "m4=Node('m4')\n",
    "m5=Node('m5')\n",
    "e1=Node('e1')\n",
    "e2=Node('e2')\n",
    "e3=Node('e3')\n",
    "\n",
    "ceo.add_child(svp1)\n",
    "ceo.add_child(svp2)\n",
    "ceo.add_child(svp3)\n",
    "\n",
    "svp1.add_child(m1)\n",
    "svp1.add_child(m2)\n",
    "svp1.add_child(m3)\n",
    "m1.add_child(e1)\n",
    "m1.add_child(e2)\n",
    "m1.add_child(e3)"
   ]
  },
  {
   "cell_type": "code",
   "execution_count": 73,
   "metadata": {},
   "outputs": [
    {
     "name": "stdout",
     "output_type": "stream",
     "text": [
      "Children for title ceo\n",
      "['svp1', 'svp2', 'svp3']\n",
      "Children for title svp1\n",
      "['m1', 'm2', 'm3']\n",
      "Children for title m1\n",
      "['e1', 'e2', 'e3']\n",
      "Children for title e1\n",
      "[]\n",
      "Children for title e2\n",
      "[]\n",
      "Children for title e3\n",
      "[]\n",
      "Children for title m2\n",
      "[]\n",
      "Children for title m3\n",
      "[]\n",
      "Children for title svp2\n",
      "[]\n",
      "Children for title svp3\n",
      "[]\n"
     ]
    }
   ],
   "source": [
    "def recurse(title_node):\n",
    "    if title_node.children is not None:\n",
    "        print(\"Children for title \" + title_node.data)\n",
    "        print([c.data for c in title_node.children])\n",
    "        for c in title_node.children:\n",
    "            recurse(c)\n",
    "    else:\n",
    "        print(\"No children for title \" + title_node.data)\n",
    "        \n",
    "    \n",
    "recurse(ceo)"
   ]
  },
  {
   "cell_type": "code",
   "execution_count": 68,
   "metadata": {},
   "outputs": [
    {
     "data": {
      "text/plain": [
       "[<__main__.Node at 0x111a97e48>,\n",
       " <__main__.Node at 0x111a97160>,\n",
       " <__main__.Node at 0x111a97128>]"
      ]
     },
     "execution_count": 68,
     "metadata": {},
     "output_type": "execute_result"
    }
   ],
   "source": [
    "ceo.children"
   ]
  },
  {
   "cell_type": "code",
   "execution_count": 74,
   "metadata": {},
   "outputs": [
    {
     "name": "stdout",
     "output_type": "stream",
     "text": [
      "Children for title ceo is 3\n",
      "Children for title svp1 is 3\n",
      "Children for title m1 is 3\n",
      "Children for title e1 is 0\n",
      "Children for title e2 is 0\n",
      "Children for title e3 is 0\n",
      "Children for title m2 is 0\n",
      "Children for title m3 is 0\n",
      "Children for title svp2 is 0\n",
      "Children for title svp3 is 0\n"
     ]
    }
   ],
   "source": [
    "def recurse2(title_node):\n",
    "    if title_node.children is not None:\n",
    "        print(\"Children for title \" +  title_node.data + \" is \"+str(len(title_node.children)))\n",
    "        for c in title_node.children:\n",
    "            recurse2(c)\n",
    "    else:\n",
    "        print(\"Children for title \" +  title_node.data + \" is 0 \") \n",
    "        \n",
    "    \n",
    "recurse2(ceo)"
   ]
  },
  {
   "cell_type": "code",
   "execution_count": 85,
   "metadata": {},
   "outputs": [
    {
     "name": "stdout",
     "output_type": "stream",
     "text": [
      "0\n"
     ]
    }
   ],
   "source": [
    "\n",
    "def size(atree): \n",
    "    count=0\n",
    "    for c in atree.children:\n",
    "        count += size(c)\n",
    "    return count\n",
    "\n",
    "print(size(ceo))"
   ]
  },
  {
   "cell_type": "code",
   "execution_count": 90,
   "metadata": {},
   "outputs": [
    {
     "name": "stdout",
     "output_type": "stream",
     "text": [
      "0\n"
     ]
    }
   ],
   "source": [
    "def height(atree):\n",
    "    h = -1\n",
    "    for c in atree.children:\n",
    "        h = max(h,height(c))\n",
    "    return 1 + h\n",
    "print(height(svp2))"
   ]
  },
  {
   "cell_type": "code",
   "execution_count": 1,
   "metadata": {},
   "outputs": [
    {
     "ename": "ModuleNotFoundError",
     "evalue": "No module named 'pyspark'",
     "output_type": "error",
     "traceback": [
      "\u001b[0;31m---------------------------------------------------------------------------\u001b[0m",
      "\u001b[0;31mModuleNotFoundError\u001b[0m                       Traceback (most recent call last)",
      "\u001b[0;32m<ipython-input-1-c15ae3402d12>\u001b[0m in \u001b[0;36m<module>\u001b[0;34m()\u001b[0m\n\u001b[0;32m----> 1\u001b[0;31m \u001b[0;32mimport\u001b[0m \u001b[0mpyspark\u001b[0m\u001b[0;34m\u001b[0m\u001b[0;34m\u001b[0m\u001b[0m\n\u001b[0m",
      "\u001b[0;31mModuleNotFoundError\u001b[0m: No module named 'pyspark'"
     ]
    }
   ],
   "source": [
    "from pyspark import Spark"
   ]
  },
  {
   "cell_type": "code",
   "execution_count": null,
   "metadata": {},
   "outputs": [],
   "source": []
  }
 ],
 "metadata": {
  "kernelspec": {
   "display_name": "Python 3",
   "language": "python",
   "name": "python3"
  },
  "language_info": {
   "codemirror_mode": {
    "name": "ipython",
    "version": 3
   },
   "file_extension": ".py",
   "mimetype": "text/x-python",
   "name": "python",
   "nbconvert_exporter": "python",
   "pygments_lexer": "ipython3",
   "version": "3.6.7"
  }
 },
 "nbformat": 4,
 "nbformat_minor": 2
}
